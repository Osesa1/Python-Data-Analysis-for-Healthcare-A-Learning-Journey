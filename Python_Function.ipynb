{
  "nbformat": 4,
  "nbformat_minor": 0,
  "metadata": {
    "colab": {
      "provenance": [],
      "authorship_tag": "ABX9TyO7/5JiyrTPu/+FWWtQrp4D",
      "include_colab_link": true
    },
    "kernelspec": {
      "name": "python3",
      "display_name": "Python 3"
    },
    "language_info": {
      "name": "python"
    }
  },
  "cells": [
    {
      "cell_type": "markdown",
      "metadata": {
        "id": "view-in-github",
        "colab_type": "text"
      },
      "source": [
        "<a href=\"https://colab.research.google.com/github/Osesa1/Python-Data-Analysis-for-Healthcare-A-Learning-Journey/blob/main/Python_Function.ipynb\" target=\"_parent\"><img src=\"https://colab.research.google.com/assets/colab-badge.svg\" alt=\"Open In Colab\"/></a>"
      ]
    },
    {
      "cell_type": "code",
      "source": [
        "# def function_name(parameters):\n",
        "# // the body of the function"
      ],
      "metadata": {
        "id": "7pv3haUxQ1lL"
      },
      "execution_count": null,
      "outputs": []
    },
    {
      "cell_type": "code",
      "source": [
        "def addition():\n",
        "  a, b = 3, 5\n",
        "  c = a + b\n",
        "  return c"
      ],
      "metadata": {
        "id": "V407E5Y6caYK"
      },
      "execution_count": null,
      "outputs": []
    },
    {
      "cell_type": "code",
      "source": [
        "# function__name(argument)"
      ],
      "metadata": {
        "id": "3-VWABi1cu_1"
      },
      "execution_count": null,
      "outputs": []
    },
    {
      "cell_type": "code",
      "source": [
        "# calling\n",
        "addition()"
      ],
      "metadata": {
        "colab": {
          "base_uri": "https://localhost:8080/"
        },
        "id": "OJjNiULcdOi8",
        "outputId": "79d15199-2e0d-4e4d-c6fb-305e1bfdd6ba"
      },
      "execution_count": null,
      "outputs": [
        {
          "output_type": "execute_result",
          "data": {
            "text/plain": [
              "8"
            ]
          },
          "metadata": {},
          "execution_count": 7
        }
      ]
    },
    {
      "cell_type": "code",
      "source": [
        "def username(name):\n",
        "  print('your name is: ',name)"
      ],
      "metadata": {
        "id": "Peu4N7mAdvpp"
      },
      "execution_count": null,
      "outputs": []
    },
    {
      "cell_type": "code",
      "source": [
        "username('oses')"
      ],
      "metadata": {
        "colab": {
          "base_uri": "https://localhost:8080/"
        },
        "id": "jYjBh6ead-DS",
        "outputId": "fb6990ff-9af6-4623-d417-3c62111d2486"
      },
      "execution_count": null,
      "outputs": [
        {
          "output_type": "stream",
          "name": "stdout",
          "text": [
            "your name is:  oses\n"
          ]
        }
      ]
    },
    {
      "cell_type": "code",
      "source": [
        "def fullname(firstname, lastname):\n",
        "  print('your name is ',firstname, lastname)"
      ],
      "metadata": {
        "id": "4JLWpvLtFawS"
      },
      "execution_count": null,
      "outputs": []
    },
    {
      "cell_type": "code",
      "source": [
        "fullname('oses','aigbokhan')"
      ],
      "metadata": {
        "colab": {
          "base_uri": "https://localhost:8080/"
        },
        "id": "T6pskSqwGQQk",
        "outputId": "93fdce80-41c9-42d4-b699-029e2a762bee"
      },
      "execution_count": null,
      "outputs": [
        {
          "output_type": "stream",
          "name": "stdout",
          "text": [
            "your name is  oses aigbokhan\n"
          ]
        }
      ]
    },
    {
      "cell_type": "code",
      "source": [
        "def admission(age, credit_hours):\n",
        "  if age >= 18 and credit_hours >= 60:\n",
        "      print('congratulation')\n",
        "  else:\n",
        "    print('sorry, no admission this time')"
      ],
      "metadata": {
        "id": "bIOmbCrMeaTt"
      },
      "execution_count": null,
      "outputs": []
    },
    {
      "cell_type": "code",
      "source": [
        "admission(18, 60)"
      ],
      "metadata": {
        "colab": {
          "base_uri": "https://localhost:8080/"
        },
        "id": "9qHjMtlzfI5t",
        "outputId": "74d58e0e-0ea1-413e-d71d-00ef49f95f0a"
      },
      "execution_count": null,
      "outputs": [
        {
          "output_type": "stream",
          "name": "stdout",
          "text": [
            "congratulation\n"
          ]
        }
      ]
    },
    {
      "cell_type": "code",
      "source": [
        "admission(17, 50)"
      ],
      "metadata": {
        "colab": {
          "base_uri": "https://localhost:8080/"
        },
        "id": "1YUNQeSkfMCi",
        "outputId": "4baf4416-d970-4962-a2da-805b18fa3330"
      },
      "execution_count": null,
      "outputs": [
        {
          "output_type": "stream",
          "name": "stdout",
          "text": [
            "sorry, no admission this time\n"
          ]
        }
      ]
    },
    {
      "cell_type": "code",
      "source": [],
      "metadata": {
        "id": "KVyeJ5PZfQwE"
      },
      "execution_count": null,
      "outputs": []
    }
  ]
}