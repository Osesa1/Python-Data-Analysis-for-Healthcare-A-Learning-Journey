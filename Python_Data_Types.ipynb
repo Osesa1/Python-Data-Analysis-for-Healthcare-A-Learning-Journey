{
  "nbformat": 4,
  "nbformat_minor": 0,
  "metadata": {
    "colab": {
      "provenance": [],
      "authorship_tag": "ABX9TyPSXJneDS6E7c4FMS8HeEuo",
      "include_colab_link": true
    },
    "kernelspec": {
      "name": "python3",
      "display_name": "Python 3"
    },
    "language_info": {
      "name": "python"
    }
  },
  "cells": [
    {
      "cell_type": "markdown",
      "metadata": {
        "id": "view-in-github",
        "colab_type": "text"
      },
      "source": [
        "<a href=\"https://colab.research.google.com/github/Osesa1/Python-Data-Analysis-for-Healthcare-A-Learning-Journey/blob/main/Python_Data_Types.ipynb\" target=\"_parent\"><img src=\"https://colab.research.google.com/assets/colab-badge.svg\" alt=\"Open In Colab\"/></a>"
      ]
    },
    {
      "cell_type": "markdown",
      "source": [
        "Integer Data Type"
      ],
      "metadata": {
        "id": "6SAOVXnU9kDT"
      }
    },
    {
      "cell_type": "code",
      "source": [
        "-220, 10, 9, 0, 10000 # Integers in python are considered whole numbers"
      ],
      "metadata": {
        "colab": {
          "base_uri": "https://localhost:8080/"
        },
        "id": "qMhsnNQN9mIf",
        "outputId": "d08da8a7-59bb-478b-c30d-321998ff7029"
      },
      "execution_count": null,
      "outputs": [
        {
          "output_type": "execute_result",
          "data": {
            "text/plain": [
              "(-220, 10, 9, 0, 10000)"
            ]
          },
          "metadata": {},
          "execution_count": 1
        }
      ]
    },
    {
      "cell_type": "code",
      "source": [
        "age = 28\n",
        "PhoneNumber = 1234567890"
      ],
      "metadata": {
        "id": "ZhNzRKeh_ul6"
      },
      "execution_count": null,
      "outputs": []
    },
    {
      "cell_type": "markdown",
      "source": [
        "Float Data Type"
      ],
      "metadata": {
        "id": "HbDZOnab-NHs"
      }
    },
    {
      "cell_type": "code",
      "source": [
        "11.5, 11.99, -4.35"
      ],
      "metadata": {
        "colab": {
          "base_uri": "https://localhost:8080/"
        },
        "id": "vFwHg9JT-EU6",
        "outputId": "484a4938-8af2-4b76-8f0f-70c8c2d6a449"
      },
      "execution_count": null,
      "outputs": [
        {
          "output_type": "execute_result",
          "data": {
            "text/plain": [
              "(11.5, 11.99, -4.35)"
            ]
          },
          "metadata": {},
          "execution_count": 2
        }
      ]
    },
    {
      "cell_type": "code",
      "source": [
        "height = 6.2\n",
        "weight = 200.4"
      ],
      "metadata": {
        "id": "b4z9tzHp-mcT"
      },
      "execution_count": null,
      "outputs": []
    },
    {
      "cell_type": "markdown",
      "source": [
        "String Data Type"
      ],
      "metadata": {
        "id": "b_QKEKIf-zFW"
      }
    },
    {
      "cell_type": "code",
      "source": [
        "username = 'testing'\n",
        "school ='GCU'\n",
        "UserAge = '40'"
      ],
      "metadata": {
        "id": "xaK5kJ_v-xEM"
      },
      "execution_count": null,
      "outputs": []
    },
    {
      "cell_type": "code",
      "source": [
        "FirstName = 'John'\n",
        "LastName = 'Doe'"
      ],
      "metadata": {
        "id": "gUsS45x8_rhW"
      },
      "execution_count": null,
      "outputs": []
    },
    {
      "cell_type": "code",
      "source": [
        "FullName = FirstName + \" \" + LastName"
      ],
      "metadata": {
        "id": "4wQY9tvaATjb"
      },
      "execution_count": null,
      "outputs": []
    },
    {
      "cell_type": "code",
      "source": [
        "FullName"
      ],
      "metadata": {
        "colab": {
          "base_uri": "https://localhost:8080/",
          "height": 36
        },
        "id": "3Dv1x-KbBfwS",
        "outputId": "e4c94a8b-cbf7-4755-a1b2-9243d0f22988"
      },
      "execution_count": null,
      "outputs": [
        {
          "output_type": "execute_result",
          "data": {
            "text/plain": [
              "'John Doe'"
            ],
            "application/vnd.google.colaboratory.intrinsic+json": {
              "type": "string"
            }
          },
          "metadata": {},
          "execution_count": 18
        }
      ]
    },
    {
      "cell_type": "markdown",
      "source": [
        "String Method"
      ],
      "metadata": {
        "id": "nrQjYGoMBj5T"
      }
    },
    {
      "cell_type": "code",
      "source": [
        "# Upper function\n",
        "\"john\".upper()"
      ],
      "metadata": {
        "colab": {
          "base_uri": "https://localhost:8080/",
          "height": 36
        },
        "id": "zMCmaBIWAe6B",
        "outputId": "57717ce0-a9a3-427d-96bf-a58c0363e801"
      },
      "execution_count": null,
      "outputs": [
        {
          "output_type": "execute_result",
          "data": {
            "text/plain": [
              "'JOHN'"
            ],
            "application/vnd.google.colaboratory.intrinsic+json": {
              "type": "string"
            }
          },
          "metadata": {},
          "execution_count": 14
        }
      ]
    },
    {
      "cell_type": "code",
      "source": [
        "'this is another string'.upper()"
      ],
      "metadata": {
        "colab": {
          "base_uri": "https://localhost:8080/",
          "height": 36
        },
        "id": "0mFsDcu5A6Cr",
        "outputId": "075ff707-c9fc-43d8-a47f-d2edc7d1ddc6"
      },
      "execution_count": null,
      "outputs": [
        {
          "output_type": "execute_result",
          "data": {
            "text/plain": [
              "'THIS IS ANOTHER STRING'"
            ],
            "application/vnd.google.colaboratory.intrinsic+json": {
              "type": "string"
            }
          },
          "metadata": {},
          "execution_count": 15
        }
      ]
    },
    {
      "cell_type": "code",
      "source": [
        "# Lower function\n",
        "'PYTHON IS A COOL LANGUAGE TO LEARN'.lower()"
      ],
      "metadata": {
        "colab": {
          "base_uri": "https://localhost:8080/",
          "height": 36
        },
        "id": "_HYbY4iGA_7E",
        "outputId": "e002dc27-f167-43de-81c3-2da868029fa0"
      },
      "execution_count": null,
      "outputs": [
        {
          "output_type": "execute_result",
          "data": {
            "text/plain": [
              "'python is a cool language to learn'"
            ],
            "application/vnd.google.colaboratory.intrinsic+json": {
              "type": "string"
            }
          },
          "metadata": {},
          "execution_count": 17
        }
      ]
    },
    {
      "cell_type": "markdown",
      "source": [
        "Formatting a String Using the % Operator"
      ],
      "metadata": {
        "id": "fiPjgdzWBn9s"
      }
    },
    {
      "cell_type": "code",
      "source": [
        "FirstName = 'John'\n",
        "print('My name is',FirstName)"
      ],
      "metadata": {
        "colab": {
          "base_uri": "https://localhost:8080/"
        },
        "id": "yMWV-B_BBQ4r",
        "outputId": "807cad30-b385-4677-a167-718359640151"
      },
      "execution_count": null,
      "outputs": [
        {
          "output_type": "stream",
          "name": "stdout",
          "text": [
            "My name is John\n"
          ]
        }
      ]
    },
    {
      "cell_type": "code",
      "source": [
        "Product = 'Television'\n",
        "TotalCost = 1800.70"
      ],
      "metadata": {
        "id": "pMpFCQVSCOdN"
      },
      "execution_count": null,
      "outputs": []
    },
    {
      "cell_type": "code",
      "source": [
        "mes = 'The total cost for %s is %d' %(Product,TotalCost)"
      ],
      "metadata": {
        "id": "zCJHYYmfClYr"
      },
      "execution_count": null,
      "outputs": []
    },
    {
      "cell_type": "code",
      "source": [
        "print(mes)"
      ],
      "metadata": {
        "colab": {
          "base_uri": "https://localhost:8080/"
        },
        "id": "YvqTgsvlDNUE",
        "outputId": "760ceb93-14d3-42c1-d6db-fde59552d6d2"
      },
      "execution_count": null,
      "outputs": [
        {
          "output_type": "stream",
          "name": "stdout",
          "text": [
            "The total cost for Television is 1800\n"
          ]
        }
      ]
    },
    {
      "cell_type": "markdown",
      "source": [
        "Python Type Cast"
      ],
      "metadata": {
        "id": "g8CuZ0n2EKKe"
      }
    },
    {
      "cell_type": "code",
      "source": [
        "123"
      ],
      "metadata": {
        "colab": {
          "base_uri": "https://localhost:8080/"
        },
        "id": "U1e2ng-QDPoV",
        "outputId": "9717eb73-b548-4ac7-eb38-094aaeaa7989"
      },
      "execution_count": null,
      "outputs": [
        {
          "output_type": "execute_result",
          "data": {
            "text/plain": [
              "123"
            ]
          },
          "metadata": {},
          "execution_count": 23
        }
      ]
    },
    {
      "cell_type": "code",
      "source": [
        "float(123)"
      ],
      "metadata": {
        "colab": {
          "base_uri": "https://localhost:8080/"
        },
        "id": "uPkeIij3EhY0",
        "outputId": "dd0f223b-3f46-407d-eb34-d12b377a43d1"
      },
      "execution_count": null,
      "outputs": [
        {
          "output_type": "execute_result",
          "data": {
            "text/plain": [
              "123.0"
            ]
          },
          "metadata": {},
          "execution_count": 24
        }
      ]
    },
    {
      "cell_type": "code",
      "source": [
        "99.99"
      ],
      "metadata": {
        "colab": {
          "base_uri": "https://localhost:8080/"
        },
        "id": "Jtbx3I_XEjSa",
        "outputId": "f092999c-06c6-485d-c121-c4a25aa8898f"
      },
      "execution_count": null,
      "outputs": [
        {
          "output_type": "execute_result",
          "data": {
            "text/plain": [
              "99.99"
            ]
          },
          "metadata": {},
          "execution_count": 25
        }
      ]
    },
    {
      "cell_type": "code",
      "source": [
        "int(99.99)"
      ],
      "metadata": {
        "colab": {
          "base_uri": "https://localhost:8080/"
        },
        "id": "8CMuJETbEnl1",
        "outputId": "669d80c2-9bc5-4eaf-b70b-d7548c0f0f9e"
      },
      "execution_count": null,
      "outputs": [
        {
          "output_type": "execute_result",
          "data": {
            "text/plain": [
              "99"
            ]
          },
          "metadata": {},
          "execution_count": 26
        }
      ]
    },
    {
      "cell_type": "code",
      "source": [
        "'john'"
      ],
      "metadata": {
        "colab": {
          "base_uri": "https://localhost:8080/",
          "height": 36
        },
        "id": "Kv_CxVSaEqi8",
        "outputId": "eaae5c74-2150-4ad3-882e-b65c1147be82"
      },
      "execution_count": null,
      "outputs": [
        {
          "output_type": "execute_result",
          "data": {
            "text/plain": [
              "'john'"
            ],
            "application/vnd.google.colaboratory.intrinsic+json": {
              "type": "string"
            }
          },
          "metadata": {},
          "execution_count": 27
        }
      ]
    },
    {
      "cell_type": "code",
      "source": [
        "'30'"
      ],
      "metadata": {
        "colab": {
          "base_uri": "https://localhost:8080/",
          "height": 36
        },
        "id": "sJHHUdciFCGR",
        "outputId": "d8070dcf-375f-419c-f46f-c51fed3fef82"
      },
      "execution_count": null,
      "outputs": [
        {
          "output_type": "execute_result",
          "data": {
            "text/plain": [
              "'30'"
            ],
            "application/vnd.google.colaboratory.intrinsic+json": {
              "type": "string"
            }
          },
          "metadata": {},
          "execution_count": 29
        }
      ]
    },
    {
      "cell_type": "code",
      "source": [
        "int('30')"
      ],
      "metadata": {
        "colab": {
          "base_uri": "https://localhost:8080/"
        },
        "id": "Fm5ooQM6FFpH",
        "outputId": "fb8d91f5-6cf7-4ef4-ecd7-f840c422a7f2"
      },
      "execution_count": null,
      "outputs": [
        {
          "output_type": "execute_result",
          "data": {
            "text/plain": [
              "30"
            ]
          },
          "metadata": {},
          "execution_count": 30
        }
      ]
    },
    {
      "cell_type": "code",
      "source": [
        "float('30')"
      ],
      "metadata": {
        "colab": {
          "base_uri": "https://localhost:8080/"
        },
        "id": "lT83Vo-WFK7u",
        "outputId": "27ed0b71-36d1-40e5-9bc1-55e00afc6179"
      },
      "execution_count": null,
      "outputs": [
        {
          "output_type": "execute_result",
          "data": {
            "text/plain": [
              "30.0"
            ]
          },
          "metadata": {},
          "execution_count": 31
        }
      ]
    },
    {
      "cell_type": "code",
      "source": [
        "type(30)"
      ],
      "metadata": {
        "colab": {
          "base_uri": "https://localhost:8080/"
        },
        "id": "x4VonvIUFQY0",
        "outputId": "03e35f5d-54e8-4615-bd56-3e713f0094e7"
      },
      "execution_count": null,
      "outputs": [
        {
          "output_type": "execute_result",
          "data": {
            "text/plain": [
              "int"
            ]
          },
          "metadata": {},
          "execution_count": 33
        }
      ]
    },
    {
      "cell_type": "code",
      "source": [
        "type('30')"
      ],
      "metadata": {
        "colab": {
          "base_uri": "https://localhost:8080/"
        },
        "id": "28V5nYmMFVLS",
        "outputId": "b03a802d-c59e-4673-bff8-87bf39908d02"
      },
      "execution_count": null,
      "outputs": [
        {
          "output_type": "execute_result",
          "data": {
            "text/plain": [
              "str"
            ]
          },
          "metadata": {},
          "execution_count": 34
        }
      ]
    },
    {
      "cell_type": "code",
      "source": [
        "type(33.24)"
      ],
      "metadata": {
        "id": "RHZ43qHHFbXO",
        "outputId": "87e8e9d6-28b5-475c-8f5c-b6f9b2facdad",
        "colab": {
          "base_uri": "https://localhost:8080/"
        }
      },
      "execution_count": null,
      "outputs": [
        {
          "output_type": "execute_result",
          "data": {
            "text/plain": [
              "float"
            ]
          },
          "metadata": {},
          "execution_count": 35
        }
      ]
    },
    {
      "cell_type": "markdown",
      "source": [
        "List Data Type"
      ],
      "metadata": {
        "id": "XI8EnVAv4MvR"
      }
    },
    {
      "cell_type": "code",
      "source": [
        "city = ['chandler', 'Mesa', 'Gilbert', 'Phoenix', 123, 33.99]"
      ],
      "metadata": {
        "id": "WHIDG8ZdFh_B"
      },
      "execution_count": 13,
      "outputs": []
    },
    {
      "cell_type": "markdown",
      "source": [],
      "metadata": {
        "id": "JIjNDKI64msK"
      }
    },
    {
      "cell_type": "code",
      "source": [
        "# Display all the items from the list\n",
        "print(city)"
      ],
      "metadata": {
        "colab": {
          "base_uri": "https://localhost:8080/"
        },
        "id": "sZZ6XwVY4lxQ",
        "outputId": "8ea75042-2c29-4086-d9b8-86ae56557e9c"
      },
      "execution_count": 14,
      "outputs": [
        {
          "output_type": "stream",
          "name": "stdout",
          "text": [
            "['chandler', 'Mesa', 'Gilbert', 'Phoenix', 123, 33.99]\n"
          ]
        }
      ]
    },
    {
      "cell_type": "code",
      "source": [
        "print(city[0])"
      ],
      "metadata": {
        "colab": {
          "base_uri": "https://localhost:8080/"
        },
        "id": "HPijyMeP47ID",
        "outputId": "59433502-34e2-4421-cbc2-332a79a6de2c"
      },
      "execution_count": null,
      "outputs": [
        {
          "output_type": "stream",
          "name": "stdout",
          "text": [
            "chandler\n"
          ]
        }
      ]
    },
    {
      "cell_type": "code",
      "source": [
        "city[1]"
      ],
      "metadata": {
        "colab": {
          "base_uri": "https://localhost:8080/",
          "height": 36
        },
        "id": "AtT_cofj5K6o",
        "outputId": "937852d9-6fd4-4fa0-8519-6781692b86bd"
      },
      "execution_count": null,
      "outputs": [
        {
          "output_type": "execute_result",
          "data": {
            "text/plain": [
              "'Mesa'"
            ],
            "application/vnd.google.colaboratory.intrinsic+json": {
              "type": "string"
            }
          },
          "metadata": {},
          "execution_count": 4
        }
      ]
    },
    {
      "cell_type": "code",
      "source": [
        "city[3]"
      ],
      "metadata": {
        "colab": {
          "base_uri": "https://localhost:8080/",
          "height": 36
        },
        "id": "oFWGXxxK5aav",
        "outputId": "6437f3c1-582e-4abb-a44c-eac475408892"
      },
      "execution_count": null,
      "outputs": [
        {
          "output_type": "execute_result",
          "data": {
            "text/plain": [
              "'Phoenix'"
            ],
            "application/vnd.google.colaboratory.intrinsic+json": {
              "type": "string"
            }
          },
          "metadata": {},
          "execution_count": 7
        }
      ]
    },
    {
      "cell_type": "code",
      "source": [
        "city[5]"
      ],
      "metadata": {
        "colab": {
          "base_uri": "https://localhost:8080/"
        },
        "id": "-mpGSZQx5ntV",
        "outputId": "be0c4b3e-c798-40d7-857b-526c8a2a8b63"
      },
      "execution_count": null,
      "outputs": [
        {
          "output_type": "execute_result",
          "data": {
            "text/plain": [
              "33.99"
            ]
          },
          "metadata": {},
          "execution_count": 8
        }
      ]
    },
    {
      "cell_type": "code",
      "source": [
        "city[-1]"
      ],
      "metadata": {
        "colab": {
          "base_uri": "https://localhost:8080/"
        },
        "id": "pcuTlzdA53b7",
        "outputId": "1332d1c3-d260-48ac-e964-bd25d325c356"
      },
      "execution_count": null,
      "outputs": [
        {
          "output_type": "execute_result",
          "data": {
            "text/plain": [
              "33.99"
            ]
          },
          "metadata": {},
          "execution_count": 11
        }
      ]
    },
    {
      "cell_type": "code",
      "source": [
        "# select multiple\n",
        "city[1:3]"
      ],
      "metadata": {
        "colab": {
          "base_uri": "https://localhost:8080/"
        },
        "id": "Z_IExdIM8dkO",
        "outputId": "9628b18d-a8be-4560-f7c5-098bf781f05b"
      },
      "execution_count": 18,
      "outputs": [
        {
          "output_type": "execute_result",
          "data": {
            "text/plain": [
              "['Mesa', 'Gilbert']"
            ]
          },
          "metadata": {},
          "execution_count": 18
        }
      ]
    },
    {
      "cell_type": "code",
      "source": [
        "city[0:5:2]"
      ],
      "metadata": {
        "colab": {
          "base_uri": "https://localhost:8080/"
        },
        "id": "ta_cwzjE56Qy",
        "outputId": "673a6a40-7593-47da-e4ad-17e3e692ee96"
      },
      "execution_count": 17,
      "outputs": [
        {
          "output_type": "execute_result",
          "data": {
            "text/plain": [
              "['chandler', 'Gilbert', 123]"
            ]
          },
          "metadata": {},
          "execution_count": 17
        }
      ]
    },
    {
      "cell_type": "code",
      "source": [
        "city[4] = 'santan valley'"
      ],
      "metadata": {
        "id": "OC8thCJT7_td"
      },
      "execution_count": null,
      "outputs": []
    },
    {
      "cell_type": "code",
      "source": [
        "city"
      ],
      "metadata": {
        "colab": {
          "base_uri": "https://localhost:8080/"
        },
        "id": "zvoy9Ln588v0",
        "outputId": "82857f04-7965-4199-ed47-e0c6772f3da9"
      },
      "execution_count": null,
      "outputs": [
        {
          "output_type": "execute_result",
          "data": {
            "text/plain": [
              "['chandler', 'Mesa', 'Gilbert', 'Phoenix', 'santan valley', 33.99]"
            ]
          },
          "metadata": {},
          "execution_count": 17
        }
      ]
    },
    {
      "cell_type": "code",
      "source": [
        "city[5] = 'peoria'"
      ],
      "metadata": {
        "id": "Qu2OWiW-8_Wv"
      },
      "execution_count": null,
      "outputs": []
    },
    {
      "cell_type": "code",
      "source": [
        "city"
      ],
      "metadata": {
        "colab": {
          "base_uri": "https://localhost:8080/"
        },
        "id": "2lcS5-x59Bg2",
        "outputId": "db86a886-2062-45af-d0b8-dbd4cbffb4b7"
      },
      "execution_count": null,
      "outputs": [
        {
          "output_type": "execute_result",
          "data": {
            "text/plain": [
              "['chandler', 'Mesa', 'Gilbert', 'Phoenix', 'santan valley', 'peoria']"
            ]
          },
          "metadata": {},
          "execution_count": 20
        }
      ]
    },
    {
      "cell_type": "code",
      "source": [
        "city.append('queen creek')"
      ],
      "metadata": {
        "id": "dzBes-GR9GVb"
      },
      "execution_count": null,
      "outputs": []
    },
    {
      "cell_type": "code",
      "source": [
        "city"
      ],
      "metadata": {
        "colab": {
          "base_uri": "https://localhost:8080/"
        },
        "id": "0J57wuHE9bLu",
        "outputId": "0c3aa75f-c086-4c75-fcba-27be6dfe4a9e"
      },
      "execution_count": null,
      "outputs": [
        {
          "output_type": "execute_result",
          "data": {
            "text/plain": [
              "['chandler',\n",
              " 'Mesa',\n",
              " 'Gilbert',\n",
              " 'Phoenix',\n",
              " 'santan valley',\n",
              " 'peoria',\n",
              " 'queen creek']"
            ]
          },
          "metadata": {},
          "execution_count": 22
        }
      ]
    },
    {
      "cell_type": "code",
      "source": [
        "city[-1]"
      ],
      "metadata": {
        "colab": {
          "base_uri": "https://localhost:8080/",
          "height": 36
        },
        "id": "FiK8lNAK9eAj",
        "outputId": "3ed8916b-6896-4325-df1f-1b7c81e7944e"
      },
      "execution_count": null,
      "outputs": [
        {
          "output_type": "execute_result",
          "data": {
            "text/plain": [
              "'queen creek'"
            ],
            "application/vnd.google.colaboratory.intrinsic+json": {
              "type": "string"
            }
          },
          "metadata": {},
          "execution_count": 24
        }
      ]
    },
    {
      "cell_type": "markdown",
      "source": [
        "tuple data type"
      ],
      "metadata": {
        "id": "CiK2vMjd-3-P"
      }
    },
    {
      "cell_type": "code",
      "source": [
        "city_tuple =('january', 'february', 'march')"
      ],
      "metadata": {
        "id": "8w1dz3z3-7Fh"
      },
      "execution_count": null,
      "outputs": []
    },
    {
      "cell_type": "markdown",
      "source": [
        "Dictionary data type"
      ],
      "metadata": {
        "id": "37aB6NzR_Wbr"
      }
    },
    {
      "cell_type": "code",
      "source": [
        "# dictionaryName = {DictKey : Data} - Here data means value"
      ],
      "metadata": {
        "id": "l5V9tMlC_Ea3"
      },
      "execution_count": null,
      "outputs": []
    },
    {
      "cell_type": "code",
      "source": [
        "UserProfile = {'FirstName': 'john', 'Age': 21, 'Hobby' : 'Soccer'}"
      ],
      "metadata": {
        "id": "B6xngsu8AIQC"
      },
      "execution_count": null,
      "outputs": []
    },
    {
      "cell_type": "code",
      "source": [
        "UserProfile"
      ],
      "metadata": {
        "colab": {
          "base_uri": "https://localhost:8080/"
        },
        "id": "81B9WhVHAx--",
        "outputId": "4dd72df8-f683-4443-d63f-ac606724ae1f"
      },
      "execution_count": null,
      "outputs": [
        {
          "output_type": "execute_result",
          "data": {
            "text/plain": [
              "{'FirstName': 'john', 'Age': 21, 'Hobby': 'Soccer'}"
            ]
          },
          "metadata": {},
          "execution_count": 31
        }
      ]
    },
    {
      "cell_type": "code",
      "source": [
        "UserProfile['FirstName']"
      ],
      "metadata": {
        "colab": {
          "base_uri": "https://localhost:8080/",
          "height": 36
        },
        "id": "IiuzbnYSA8Qn",
        "outputId": "8dac7611-6c40-4b4d-9523-6f65454edfa3"
      },
      "execution_count": null,
      "outputs": [
        {
          "output_type": "execute_result",
          "data": {
            "text/plain": [
              "'john'"
            ],
            "application/vnd.google.colaboratory.intrinsic+json": {
              "type": "string"
            }
          },
          "metadata": {},
          "execution_count": 32
        }
      ]
    },
    {
      "cell_type": "code",
      "source": [
        "UserProfile = dict(FirstName = 'John', Age = 21)"
      ],
      "metadata": {
        "id": "WaC72CriBLrJ"
      },
      "execution_count": null,
      "outputs": []
    },
    {
      "cell_type": "code",
      "source": [],
      "metadata": {
        "id": "WD-uMmTbCbT2"
      },
      "execution_count": null,
      "outputs": []
    }
  ]
}