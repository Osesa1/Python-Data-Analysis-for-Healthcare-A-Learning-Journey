{
  "nbformat": 4,
  "nbformat_minor": 0,
  "metadata": {
    "colab": {
      "provenance": [],
      "authorship_tag": "ABX9TyNlOLJJCKtJ3SRFKbfCyoQh",
      "include_colab_link": true
    },
    "kernelspec": {
      "name": "python3",
      "display_name": "Python 3"
    },
    "language_info": {
      "name": "python"
    }
  },
  "cells": [
    {
      "cell_type": "markdown",
      "metadata": {
        "id": "view-in-github",
        "colab_type": "text"
      },
      "source": [
        "<a href=\"https://colab.research.google.com/github/Osesa1/Python-Data-Analysis-for-Healthcare-A-Learning-Journey/blob/main/If_Statement.ipynb\" target=\"_parent\"><img src=\"https://colab.research.google.com/assets/colab-badge.svg\" alt=\"Open In Colab\"/></a>"
      ]
    },
    {
      "cell_type": "code",
      "execution_count": null,
      "metadata": {
        "id": "BidYPjvWCeBV"
      },
      "outputs": [],
      "source": [
        "age = 22"
      ]
    },
    {
      "cell_type": "code",
      "source": [
        "if age > 21:\n",
        "  print('You are welcome to the department')"
      ],
      "metadata": {
        "colab": {
          "base_uri": "https://localhost:8080/"
        },
        "id": "uisaNwtnC-Ot",
        "outputId": "2a964087-1b86-429c-f344-e84238a635f7"
      },
      "execution_count": null,
      "outputs": [
        {
          "output_type": "stream",
          "name": "stdout",
          "text": [
            "You are welcome to the department\n"
          ]
        }
      ]
    },
    {
      "cell_type": "code",
      "source": [
        "if age > 21:\n",
        "  print('welcome to the department')\n",
        "else:\n",
        "  print('sorry rou are not eligible')"
      ],
      "metadata": {
        "colab": {
          "base_uri": "https://localhost:8080/"
        },
        "id": "umficMZJDjNq",
        "outputId": "72abbbd5-6a80-4880-c528-6694f3220197"
      },
      "execution_count": null,
      "outputs": [
        {
          "output_type": "stream",
          "name": "stdout",
          "text": [
            "welcome to the department\n"
          ]
        }
      ]
    },
    {
      "cell_type": "code",
      "source": [
        "name = 'john'"
      ],
      "metadata": {
        "id": "uoR1dm4kFSbk"
      },
      "execution_count": null,
      "outputs": []
    },
    {
      "cell_type": "code",
      "source": [
        "print('my name is', name)"
      ],
      "metadata": {
        "colab": {
          "base_uri": "https://localhost:8080/"
        },
        "id": "cSGfRRWzRDhx",
        "outputId": "30ebc381-3fc2-4624-b18a-5262cb341053"
      },
      "execution_count": null,
      "outputs": [
        {
          "output_type": "stream",
          "name": "stdout",
          "text": [
            "my name is john\n"
          ]
        }
      ]
    },
    {
      "cell_type": "code",
      "source": [
        "name2 = input('Enter your name')\n",
        "print('my name is', name2)"
      ],
      "metadata": {
        "colab": {
          "base_uri": "https://localhost:8080/"
        },
        "id": "qARiCIarRTwY",
        "outputId": "b50ca4ac-d00b-426b-ab33-6206aada3bfe"
      },
      "execution_count": null,
      "outputs": [
        {
          "output_type": "stream",
          "name": "stdout",
          "text": [
            "Enter your nameoses\n",
            "my name is oses\n"
          ]
        }
      ]
    },
    {
      "cell_type": "code",
      "source": [
        "income = int(input('what is your income'))\n",
        "\n",
        "total = income + income*0.15\n",
        "\n",
        "print('your income is', total)"
      ],
      "metadata": {
        "colab": {
          "base_uri": "https://localhost:8080/"
        },
        "id": "oLkl7MXbRjTZ",
        "outputId": "224167d4-5695-4919-cb3e-c0ec31d6795d"
      },
      "execution_count": null,
      "outputs": [
        {
          "output_type": "stream",
          "name": "stdout",
          "text": [
            "what is your income20\n",
            "your income is 23.0\n"
          ]
        }
      ]
    },
    {
      "cell_type": "code",
      "source": [
        "age = int(input('what is your age'))\n",
        "\n",
        "if age < 18:\n",
        "  print('not eligible')\n",
        "\n",
        "if age >= 18:\n",
        "  print('eligible')\n"
      ],
      "metadata": {
        "colab": {
          "base_uri": "https://localhost:8080/"
        },
        "id": "1YFh5zU6SQ_B",
        "outputId": "8365344e-f7f3-4f7e-ef1e-f84a4e325d3a"
      },
      "execution_count": null,
      "outputs": [
        {
          "output_type": "stream",
          "name": "stdout",
          "text": [
            "what is your age16\n",
            "not eligible\n"
          ]
        }
      ]
    },
    {
      "cell_type": "code",
      "source": [
        "age = int(input('what is your age'))\n",
        "\n",
        "if age >= 18:\n",
        "  print('eligible')\n",
        "else:\n",
        "  print('not eligible')"
      ],
      "metadata": {
        "colab": {
          "base_uri": "https://localhost:8080/"
        },
        "id": "9_MsHFpLUG1X",
        "outputId": "a79e4653-954f-4aa0-c2e1-7ea0ab985394"
      },
      "execution_count": null,
      "outputs": [
        {
          "output_type": "stream",
          "name": "stdout",
          "text": [
            "what is your age23\n",
            "eligible\n"
          ]
        }
      ]
    },
    {
      "cell_type": "code",
      "source": [
        "age = 18\n",
        "credit_hours = 60\n",
        "if age >= 18 and credit_hours >= 60:\n",
        "  print('congratulations, you are admitted')\n",
        "else:\n",
        "  print('sorry, we cannot admit at this time')"
      ],
      "metadata": {
        "colab": {
          "base_uri": "https://localhost:8080/"
        },
        "id": "G25AugBoUrJ7",
        "outputId": "d65573eb-10bc-4bc1-ab3b-a33a5f517131"
      },
      "execution_count": null,
      "outputs": [
        {
          "output_type": "stream",
          "name": "stdout",
          "text": [
            "congratulations, you are admitted\n"
          ]
        }
      ]
    },
    {
      "cell_type": "code",
      "source": [
        "age = 18\n",
        "credit_hours = 60\n",
        "\n",
        "if age >= 18 and credit_hours >= 60:\n",
        "  print('congratulations, you are admitted')\n",
        "\n",
        "elif age >= 18 and credit_hours < 60:\n",
        "  print('you will be placed on a three month probation')\n",
        "\n",
        "else:\n",
        "  print('sorry, we cannot admit at this time')"
      ],
      "metadata": {
        "colab": {
          "base_uri": "https://localhost:8080/"
        },
        "id": "DGiwmGOLWVaJ",
        "outputId": "79d694ee-4523-41be-ca59-ff6210ac199a"
      },
      "execution_count": null,
      "outputs": [
        {
          "output_type": "stream",
          "name": "stdout",
          "text": [
            "congratulations, you are admitted\n"
          ]
        }
      ]
    },
    {
      "cell_type": "code",
      "source": [
        "age = 18\n",
        "citizen = False\n",
        "\n",
        "if age >= 18 and citizen:\n",
        "  print('eligible')\n",
        "\n",
        "elif age < 18 and citizen:\n",
        "  print('vote next time')\n",
        "\n",
        "else:\n",
        "  print('not eligible')\n"
      ],
      "metadata": {
        "colab": {
          "base_uri": "https://localhost:8080/"
        },
        "id": "vwCBcQsCXIhU",
        "outputId": "daf42e89-2a81-448e-a338-deca3b3e0dd6"
      },
      "execution_count": null,
      "outputs": [
        {
          "output_type": "stream",
          "name": "stdout",
          "text": [
            "not eligible\n"
          ]
        }
      ]
    },
    {
      "cell_type": "code",
      "source": [
        "coupon = input('enter coupon python all lower case')\n",
        "\n",
        "if coupon == 'python':\n",
        "  print('congratulations, you have the right coupon')\n",
        "\n",
        "else:\n",
        "  print('sorry we cannot give you access')"
      ],
      "metadata": {
        "colab": {
          "base_uri": "https://localhost:8080/"
        },
        "id": "P-TFuoNlYktM",
        "outputId": "db8d0731-8b5f-4695-d0bb-b4d2990e68c2"
      },
      "execution_count": null,
      "outputs": [
        {
          "output_type": "stream",
          "name": "stdout",
          "text": [
            "enter coupon python all lower casepython\n",
            "congratulations, you have the right coupon\n"
          ]
        }
      ]
    },
    {
      "cell_type": "code",
      "source": [],
      "metadata": {
        "id": "xQw2XCMtbinl"
      },
      "execution_count": null,
      "outputs": []
    }
  ]
}